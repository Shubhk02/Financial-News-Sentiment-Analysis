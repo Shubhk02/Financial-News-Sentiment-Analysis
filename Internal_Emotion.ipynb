{
  "nbformat": 4,
  "nbformat_minor": 0,
  "metadata": {
    "colab": {
      "provenance": [],
      "mount_file_id": "https://github.com/leninworld/lights_srm_amigos_dataset_2024/blob/main/Internal_Emotion.ipynb",
      "authorship_tag": "ABX9TyNv/MQRFhPGNlZEGXHLvdQu",
      "include_colab_link": true
    },
    "kernelspec": {
      "name": "python3",
      "display_name": "Python 3"
    },
    "language_info": {
      "name": "python"
    }
  },
  "cells": [
    {
      "cell_type": "markdown",
      "metadata": {
        "id": "view-in-github",
        "colab_type": "text"
      },
      "source": [
        "<a href=\"https://colab.research.google.com/github/Shubhk02/Financial-News-Sentiment-Analysis/blob/main/Internal_Emotion.ipynb\" target=\"_parent\"><img src=\"https://colab.research.google.com/assets/colab-badge.svg\" alt=\"Open In Colab\"/></a>"
      ]
    },
    {
      "cell_type": "code",
      "execution_count": null,
      "metadata": {
        "colab": {
          "base_uri": "https://localhost:8080/"
        },
        "id": "2vvJj5iJaZUG",
        "outputId": "865ae48e-d980-47fa-c61c-7ffd26fdc4f7"
      },
      "outputs": [
        {
          "output_type": "stream",
          "name": "stdout",
          "text": [
            "Available keys in .mat file: dict_keys(['__header__', '__version__', '__globals__', 'ECG_DATA', 'EEG_DATA', 'GSR_DATA', 'VideoIDs'])\n",
            "EEG Data Shape: (1, 20)\n",
            "ECG Data Shape: (1, 20)\n",
            "GSR Data Shape: (1, 20)\n",
            "Video IDs Shape: (1, 20)\n",
            "Processed Video IDs: [10, 13, 138, 18, 19, 20, 23, 30, 31, 34, 36, 4, 5, 58, 80, 9]\n",
            "Index for Video ID 19: 4\n"
          ]
        }
      ],
      "source": [
        "import scipy.io\n",
        "import numpy as np\n",
        "import matplotlib.pyplot as plt\n",
        "\n",
        "# Load the .mat file\n",
        "file_path = \"/content/drive/MyDrive/Data original/Data_Original_P01/Data_Original_P01/Data_Original_P01.mat\"\n",
        "data = scipy.io.loadmat(file_path)\n",
        "\n",
        "# Inspect available keys\n",
        "print(\"Available keys in .mat file:\", data.keys())\n",
        "\n",
        "# Extract EEG, ECG, GSR, and Video IDs\n",
        "eeg_data = data.get(\"EEG_DATA\")\n",
        "ecg_data = data.get(\"ECG_DATA\")\n",
        "gsr_data = data.get(\"GSR_DATA\")\n",
        "video_ids = data.get(\"VideoIDs\")\n",
        "\n",
        "# Check if data is loaded correctly\n",
        "print(\"EEG Data Shape:\", eeg_data.shape if eeg_data is not None else \"Not found\")\n",
        "print(\"ECG Data Shape:\", ecg_data.shape if ecg_data is not None else \"Not found\")\n",
        "print(\"GSR Data Shape:\", gsr_data.shape if gsr_data is not None else \"Not found\")\n",
        "print(\"Video IDs Shape:\", video_ids.shape if video_ids is not None else \"Not found\")\n",
        "\n",
        "# Convert video IDs to a clean list\n",
        "video_ids = [int(v[0]) for v in video_ids.flatten() if v[0].isdigit()]\n",
        "print(\"Processed Video IDs:\", video_ids)\n",
        "\n",
        "# Find index for Video ID 19\n",
        "if 19 in video_ids:\n",
        "    index = video_ids.index(19)\n",
        "    print(f\"Index for Video ID 19: {index}\")\n",
        "\n",
        "    # Extract corresponding signals\n",
        "    eeg_signal = eeg_data[:, index]\n",
        "    ecg_signal = ecg_data[:, index]\n",
        "    gsr_signal = gsr_data[:, index]\n",
        "\n",
        "    # Normalize signals for valence-arousal computation\n",
        "    eeg_norm = (eeg_signal - np.min(eeg_signal)) / (np.max(eeg_signal) - np.min(eeg_signal))\n",
        "    ecg_norm = (ecg_signal - np.min(ecg_signal)) / (np.max(ecg_signal) - np.min(ecg_signal))\n",
        "    gsr_norm = (gsr_signal - np.min(gsr_signal)) / (np.max(gsr_signal) - np.min(gsr_signal))\n",
        "\n",
        "    # Compute valence and arousal (simple approach)\n",
        "    valence = eeg_norm - gsr_norm\n",
        "    arousal = ecg_norm + gsr_norm\n",
        "\n",
        "    # Plot valence-arousal scatter plot\n",
        "    plt.figure(figsize=(8, 6))\n",
        "    plt.scatter(valence, arousal, color='purple', alpha=0.5)\n",
        "    plt.xlabel(\"Valence\")\n",
        "    plt.ylabel(\"Arousal\")\n",
        "    plt.title(\"Valence-Arousal Plot for Video ID 19\")\n",
        "    plt.grid(True)\n",
        "    plt.show()\n",
        "\n",
        "else:\n",
        "    print(\"Video ID 19 not found in dataset.\")\n"
      ]
    },
    {
      "cell_type": "code",
      "source": [
        "import scipy.io\n",
        "\n",
        "# Load your .mat file\n",
        "file_path = \"/content/drive/MyDrive/Data original/Data_Original_P01/Data_Original_P01/Data_Original_P01.mat\"  # Update if needed\n",
        "data = scipy.io.loadmat(file_path)\n",
        "\n",
        "# Print all keys to find the correct structure\n",
        "print(\"Available keys in the .mat file:\")\n",
        "print(data.keys())\n"
      ],
      "metadata": {
        "colab": {
          "base_uri": "https://localhost:8080/"
        },
        "id": "hE6nAY_j6ReT",
        "outputId": "3c41958f-23a3-45d7-a623-5f8aba712fc1"
      },
      "execution_count": null,
      "outputs": [
        {
          "output_type": "stream",
          "name": "stdout",
          "text": [
            "Available keys in the .mat file:\n",
            "dict_keys(['__header__', '__version__', '__globals__', 'ECG_DATA', 'EEG_DATA', 'GSR_DATA', 'VideoIDs'])\n"
          ]
        }
      ]
    }
  ]
}